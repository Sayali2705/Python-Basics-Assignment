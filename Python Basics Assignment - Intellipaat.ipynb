{
 "cells": [
  {
   "cell_type": "markdown",
   "id": "f153ecc8",
   "metadata": {},
   "source": [
    "# Python Basics Assignment"
   ]
  },
  {
   "cell_type": "markdown",
   "id": "f31a0ee4",
   "metadata": {},
   "source": [
    "- Q1. Using Python script as a calculator\n",
    "Create the variables n, r, p and assign them values 10, 5, and 100 respectively. Then\n",
    "evaluate the following expression in the Python console.\n",
    "\n",
    "𝐴 = 𝑝 (1 + 𝑟/ 100)n\n",
    "\n",
    "a. 100\n",
    "\n",
    "b. 162.89\n",
    "\n",
    "c. 189\n",
    "\n",
    "d. None of the above"
   ]
  },
  {
   "cell_type": "code",
   "execution_count": 2,
   "id": "dea4532d",
   "metadata": {},
   "outputs": [
    {
     "name": "stdout",
     "output_type": "stream",
     "text": [
      "162.8894626777442\n"
     ]
    }
   ],
   "source": [
    "n = 10\n",
    "r = 5\n",
    "p = 100\n",
    "\n",
    "#Evaluating expression\n",
    "A = p*(1+r/100)**n\n",
    "\n",
    "print(A)"
   ]
  },
  {
   "cell_type": "markdown",
   "id": "c48a6fe6",
   "metadata": {},
   "source": [
    " Answer : b. 162.89"
   ]
  },
  {
   "cell_type": "markdown",
   "id": "91742cb9",
   "metadata": {},
   "source": [
    "- Q2. In a given string format operation, how will you print the given string.\n",
    "\n",
    "A = 10  \n",
    "B = 20\n",
    "\n",
    "Str = \"There are {} students in the class, with {} who play at least one sport.\"\n",
    "\n",
    "a. print(string.format(a,b))\n",
    "\n",
    "b. print(string+a+b)\n",
    "\n",
    "c. print(string.format(b,a))\n",
    "\n",
    "d. None of the above"
   ]
  },
  {
   "cell_type": "code",
   "execution_count": 13,
   "id": "ee6e5c5c",
   "metadata": {},
   "outputs": [
    {
     "name": "stdout",
     "output_type": "stream",
     "text": [
      "There are 10 students in the class, with 20 who play at least one sport.\n"
     ]
    }
   ],
   "source": [
    "A = 10\n",
    "B = 20\n",
    "\n",
    "Str = \"There are {} students in the class, with {} who play at least one sport.\"\n",
    "\n",
    "#correct syntax for result\n",
    "print(Str.format(A,B))"
   ]
  },
  {
   "cell_type": "markdown",
   "id": "200e79c1",
   "metadata": {},
   "source": [
    "Answer : d. None of the above"
   ]
  },
  {
   "cell_type": "markdown",
   "id": "97e07d0a",
   "metadata": {},
   "source": [
    "- Q3. In a given sample string, How do you print a double quoted string in between a\n",
    "regular string using the escape character?\n",
    "\n",
    "Sample output = It goes without saying, “Time is Money”, and none can deny it.\n",
    "\n",
    "a. print(“It goes without saying, \\“Time is Money\\”, and none can deny it.”)\n",
    "\n",
    "b. print(“It goes without saying, \\Time is Money\\, and none can deny it.”)\n",
    "\n",
    "c. print(“It goes without saying” + “Time is Money” + “and none can deny it.”)\n",
    "\n",
    "d. None of the above.\n"
   ]
  },
  {
   "cell_type": "code",
   "execution_count": 8,
   "id": "40c2c991",
   "metadata": {},
   "outputs": [
    {
     "name": "stdout",
     "output_type": "stream",
     "text": [
      "It goes without saying,\"Time is Money\", and none can deny it.\n"
     ]
    }
   ],
   "source": [
    "print(\"It goes without saying,\\\"Time is Money\\\", and none can deny it.\")"
   ]
  },
  {
   "cell_type": "markdown",
   "id": "f14a76c6",
   "metadata": {},
   "source": [
    "Answer : a. print(“It goes without saying, \\“Time is Money\\”, and none can deny it.”)"
   ]
  },
  {
   "cell_type": "markdown",
   "id": "c84c13df",
   "metadata": {},
   "source": [
    "- Q4. What will be the output of the following code?\n",
    "\n",
    "x = lambda a,b: a//b\\\n",
    "x(10,3)\n",
    "\n",
    "a. 3.3333333333\n",
    "\n",
    "b. 3\n",
    "\n",
    "c. 30\n",
    "\n",
    "d. 1000"
   ]
  },
  {
   "cell_type": "code",
   "execution_count": 12,
   "id": "6553237f",
   "metadata": {},
   "outputs": [
    {
     "data": {
      "text/plain": [
       "3"
      ]
     },
     "execution_count": 12,
     "metadata": {},
     "output_type": "execute_result"
    }
   ],
   "source": [
    "#lambda function\n",
    "x = lambda a,b: a//b\n",
    "\n",
    "x(10,3)"
   ]
  },
  {
   "cell_type": "markdown",
   "id": "d7817738",
   "metadata": {},
   "source": [
    "Answer : b. 3"
   ]
  },
  {
   "cell_type": "markdown",
   "id": "0cedeb42",
   "metadata": {},
   "source": [
    "- Q5. What will be the output of the following code?\n",
    "\n",
    "A = 10\\\n",
    "B = 12\n",
    "\n",
    "print(\"Smaller\") if A == B else print(\"Greater\") if A < B else print(\"True\")\n",
    "\n",
    "a. True\n",
    "\n",
    "b. Smaller\n",
    "\n",
    "c. Greater\n",
    "\n",
    "d. None of the above"
   ]
  },
  {
   "cell_type": "code",
   "execution_count": 14,
   "id": "3820df0d",
   "metadata": {},
   "outputs": [
    {
     "name": "stdout",
     "output_type": "stream",
     "text": [
      "Greater\n"
     ]
    }
   ],
   "source": [
    "A = 10\n",
    "B = 12\n",
    "\n",
    "print(\"Smaller\") if A == B else print(\"Greater\") if A < B else print(\"True\")"
   ]
  },
  {
   "cell_type": "markdown",
   "id": "efe9bc08",
   "metadata": {},
   "source": [
    "Answer : c. Greater"
   ]
  },
  {
   "cell_type": "markdown",
   "id": "af898a33",
   "metadata": {},
   "source": [
    "- Q6. What will be the output of the following code?\n",
    "\n",
    "import os\\\n",
    "import numpy as np\\\n",
    "my_list1 = [2,7,3,5,4,6]\\\n",
    "print(my_list1)\\\n",
    "arr_1 = numpy.array(my_list1, dtype = int)\\\n",
    "print(arr_1)\n",
    "\n",
    "a. [2 7 3 5 4 6]\n",
    "\n",
    "b. TypeError\n",
    "\n",
    "c. NameError: name 'numpy' is not defined\n",
    "\n",
    "d. None of the above"
   ]
  },
  {
   "cell_type": "code",
   "execution_count": 16,
   "id": "bbeff06e",
   "metadata": {},
   "outputs": [
    {
     "name": "stdout",
     "output_type": "stream",
     "text": [
      "[2, 7, 3, 5, 4, 6]\n"
     ]
    },
    {
     "ename": "NameError",
     "evalue": "name 'numpy' is not defined",
     "output_type": "error",
     "traceback": [
      "\u001b[1;31m---------------------------------------------------------------------------\u001b[0m",
      "\u001b[1;31mNameError\u001b[0m                                 Traceback (most recent call last)",
      "Cell \u001b[1;32mIn [16], line 9\u001b[0m\n\u001b[0;32m      5\u001b[0m my_list1 \u001b[38;5;241m=\u001b[39m [\u001b[38;5;241m2\u001b[39m,\u001b[38;5;241m7\u001b[39m,\u001b[38;5;241m3\u001b[39m,\u001b[38;5;241m5\u001b[39m,\u001b[38;5;241m4\u001b[39m,\u001b[38;5;241m6\u001b[39m]\n\u001b[0;32m      7\u001b[0m \u001b[38;5;28mprint\u001b[39m(my_list1)\n\u001b[1;32m----> 9\u001b[0m arr_1 \u001b[38;5;241m=\u001b[39m \u001b[43mnumpy\u001b[49m\u001b[38;5;241m.\u001b[39marray(my_list1, dtype \u001b[38;5;241m=\u001b[39m \u001b[38;5;28mint\u001b[39m)\n\u001b[0;32m     11\u001b[0m \u001b[38;5;28mprint\u001b[39m(arr_1)\n",
      "\u001b[1;31mNameError\u001b[0m: name 'numpy' is not defined"
     ]
    }
   ],
   "source": [
    "import os\n",
    "\n",
    "import numpy as np\n",
    "\n",
    "my_list1 = [2,7,3,5,4,6]\n",
    "\n",
    "print(my_list1)\n",
    "\n",
    "arr_1 = numpy.array(my_list1, dtype = int)\n",
    "\n",
    "print(arr_1)\n"
   ]
  },
  {
   "cell_type": "markdown",
   "id": "60b07a56",
   "metadata": {},
   "source": [
    "Answer : c. NameError: name 'numpy' is not defined"
   ]
  },
  {
   "cell_type": "markdown",
   "id": "186cdfef",
   "metadata": {},
   "source": [
    "- Q7. Create a string called ‘string’ with the value as “Machine Learning”. Which code(s)\n",
    "is/are appropriate to slice the substring “Learn”?\n",
    "\n",
    "a. string[slice(13,8,1)]\n",
    "\n",
    "b. string[slice(1,8,1)]\n",
    "\n",
    "c. string[8:14]\n",
    "\n",
    "d. string[slice(8,13,1)]"
   ]
  },
  {
   "cell_type": "code",
   "execution_count": 23,
   "id": "a08777aa",
   "metadata": {},
   "outputs": [
    {
     "name": "stdout",
     "output_type": "stream",
     "text": [
      "Learn\n"
     ]
    }
   ],
   "source": [
    "string = \"Machine Learning\"\n",
    "\n",
    "substring = string[slice(8,13,1)]\n",
    "\n",
    "print(substring)"
   ]
  },
  {
   "cell_type": "markdown",
   "id": "1e101527",
   "metadata": {},
   "source": [
    "Answer : d. string[slice(8,13,1)]"
   ]
  },
  {
   "cell_type": "markdown",
   "id": "3fe192cf",
   "metadata": {},
   "source": [
    "- Q8. Create a sequence of numbers from 10 to 25 and increment by 4. What is the index\n",
    "of the value 18?\n",
    "\n",
    "a. 3\n",
    "\n",
    "b. 2\n",
    "\n",
    "c. 0\n",
    "\n",
    "d. 1"
   ]
  },
  {
   "cell_type": "code",
   "execution_count": 25,
   "id": "d3fc5107",
   "metadata": {},
   "outputs": [
    {
     "name": "stdout",
     "output_type": "stream",
     "text": [
      "[10, 14, 18, 22]\n",
      "2\n"
     ]
    }
   ],
   "source": [
    "# sequence of numbers from 10 to 25 & increment by 4\n",
    "seq = list(range(10,26,4))\n",
    "\n",
    "# index of the value 18\n",
    "index_of_18 = seq.index(18)\n",
    "\n",
    "print(seq)\n",
    "print(index_of_18)"
   ]
  },
  {
   "cell_type": "markdown",
   "id": "cc976d6c",
   "metadata": {},
   "source": [
    "Answer : b. 2"
   ]
  },
  {
   "cell_type": "markdown",
   "id": "7f0dee66",
   "metadata": {},
   "source": [
    "- Q9. Which of the following is true with respect to the below codes?\n",
    "\n",
    "num1 = 5** 4\\\n",
    "num2 = pow(5,4)\n",
    "\n",
    "print(num1, num2)\n",
    "\n",
    "a. num1 = num2\n",
    "\n",
    "b. num1 ≠ num2\n",
    "\n",
    "c. num1 < num2\n",
    "\n",
    "d. num1 > num2\n"
   ]
  },
  {
   "cell_type": "code",
   "execution_count": 26,
   "id": "bbb9dfc7",
   "metadata": {},
   "outputs": [
    {
     "name": "stdout",
     "output_type": "stream",
     "text": [
      "625 625\n"
     ]
    }
   ],
   "source": [
    "num1 = 5**4\n",
    "\n",
    "num2 = pow(5,4)\n",
    "\n",
    "print(num1, num2)"
   ]
  },
  {
   "cell_type": "markdown",
   "id": "e13033e0",
   "metadata": {},
   "source": [
    "Answer : a. num1 = num2"
   ]
  },
  {
   "cell_type": "markdown",
   "id": "4f95cfed",
   "metadata": {},
   "source": [
    "- Q10.A Python NameError exception is raised when: -\n",
    "\n",
    "a. Trying to access a variable which has not been defined\n",
    "\n",
    "b. Trying to access a key in a dictionary that does not exist\n",
    "\n",
    "c. Accessing a column with misspelled column name\n",
    "\n",
    "d. Accessing the function from a module that has not been imported"
   ]
  },
  {
   "cell_type": "markdown",
   "id": "6e022ac8",
   "metadata": {},
   "source": [
    "Answer : a. Trying to access a variable which has not been defined"
   ]
  },
  {
   "cell_type": "markdown",
   "id": "a134e532",
   "metadata": {},
   "source": [
    "- Q11.What type of exception will be raised for the code given below?\n",
    "\n",
    "x = \"string\"\\\n",
    "int(x)\n",
    "\n",
    "a. NameError\n",
    "\n",
    "b. KeyError\n",
    "\n",
    "c. ValueError\n",
    "\n",
    "d. AttributeError"
   ]
  },
  {
   "cell_type": "code",
   "execution_count": 29,
   "id": "9ed22a92",
   "metadata": {},
   "outputs": [
    {
     "ename": "ValueError",
     "evalue": "invalid literal for int() with base 10: 'string'",
     "output_type": "error",
     "traceback": [
      "\u001b[1;31m---------------------------------------------------------------------------\u001b[0m",
      "\u001b[1;31mValueError\u001b[0m                                Traceback (most recent call last)",
      "Cell \u001b[1;32mIn [29], line 3\u001b[0m\n\u001b[0;32m      1\u001b[0m x \u001b[38;5;241m=\u001b[39m \u001b[38;5;124m\"\u001b[39m\u001b[38;5;124mstring\u001b[39m\u001b[38;5;124m\"\u001b[39m\n\u001b[1;32m----> 3\u001b[0m \u001b[38;5;28;43mint\u001b[39;49m\u001b[43m(\u001b[49m\u001b[43mx\u001b[49m\u001b[43m)\u001b[49m\n",
      "\u001b[1;31mValueError\u001b[0m: invalid literal for int() with base 10: 'string'"
     ]
    }
   ],
   "source": [
    "x = \"string\"\n",
    "\n",
    "int(x)"
   ]
  },
  {
   "cell_type": "markdown",
   "id": "152f19c9",
   "metadata": {},
   "source": [
    "Answer : c. ValueError"
   ]
  },
  {
   "cell_type": "markdown",
   "id": "46ab7a5d",
   "metadata": {},
   "source": [
    "- Q12.A FileNotFoundError exception is raised by operating system errors when: -\n",
    "    \n",
    "a. Trying to create a file or directory which already exists\n",
    "\n",
    "b. A file or directory is requested but does not exist in the working directory\n",
    "\n",
    "c. Trying to run an operation without the adequate access rights\n",
    "\n",
    "d. A directory operation, os.listdir() is requested on something which is not a\n",
    "directory\n"
   ]
  },
  {
   "cell_type": "markdown",
   "id": "f20bf1dc",
   "metadata": {},
   "source": [
    "Answer : b. A file or directory is requested but does not exist in the working directory"
   ]
  },
  {
   "cell_type": "markdown",
   "id": "11272d3b",
   "metadata": {},
   "source": [
    "- Q13.Consider a variable Z. The value of Z is \"ID-5632\". Data type of Z is: -\n",
    "\n",
    "a. Complex\n",
    "\n",
    "b. Character\n",
    "\n",
    "c. Integer\n",
    "\n",
    "d. Boolean"
   ]
  },
  {
   "cell_type": "code",
   "execution_count": 32,
   "id": "9c0a9b80",
   "metadata": {},
   "outputs": [
    {
     "name": "stdout",
     "output_type": "stream",
     "text": [
      "<class 'str'>\n"
     ]
    }
   ],
   "source": [
    "Z = \"ID-5632\"\n",
    "\n",
    "print(type(Z))"
   ]
  },
  {
   "cell_type": "markdown",
   "id": "31bbf728",
   "metadata": {},
   "source": [
    "Answer : b. Character (string character)"
   ]
  },
  {
   "cell_type": "markdown",
   "id": "118c2732",
   "metadata": {},
   "source": [
    "- Q14.Which of the following variable(s) are character data type?\n",
    "\n",
    "a. K= “4”\n",
    "\n",
    "b. J= “Welcome”\n",
    "\n",
    "c. L= “?”\n",
    "\n",
    "d. All of the above"
   ]
  },
  {
   "cell_type": "code",
   "execution_count": 34,
   "id": "add94da9",
   "metadata": {},
   "outputs": [
    {
     "name": "stdout",
     "output_type": "stream",
     "text": [
      "<class 'str'>\n",
      "<class 'str'>\n",
      "<class 'str'>\n"
     ]
    }
   ],
   "source": [
    "K= \"4\"\n",
    "print(type(K))\n",
    "\n",
    "J= \"Welcome\"\n",
    "print(type(J))\n",
    "\n",
    "L= \"?\"\n",
    "print(type(L))"
   ]
  },
  {
   "cell_type": "markdown",
   "id": "c35fbbf3",
   "metadata": {},
   "source": [
    "Answer : d. All of the above"
   ]
  },
  {
   "cell_type": "markdown",
   "id": "25411364",
   "metadata": {},
   "source": [
    "- Q15.Choose the symbol/s that does not have the ability to convert any values to string?\n",
    "\n",
    "a. ( )\n",
    "\n",
    "b. “ ”\n",
    "\n",
    "c. {}\n",
    "\n",
    "d. #"
   ]
  },
  {
   "cell_type": "markdown",
   "id": "0d524628",
   "metadata": {},
   "source": [
    "Answer : d. #"
   ]
  },
  {
   "cell_type": "markdown",
   "id": "f0d7345b",
   "metadata": {},
   "source": [
    "- Q16.Create a dictionary ‘Country’ that maps the following countries to their capitals\n",
    "respectively:\n",
    "\n",
    "Country India China Japan Qatar France\\\n",
    "State Delhi Beijing Tokyo Doha Marseilles\n",
    "\n",
    "Find 2 commands to replace “Marseilles” with “Paris” is:"
   ]
  },
  {
   "cell_type": "code",
   "execution_count": 36,
   "id": "3c379d09",
   "metadata": {},
   "outputs": [
    {
     "name": "stdout",
     "output_type": "stream",
     "text": [
      "{'India': 'Delhi', 'China': 'Beijing', 'Japan': 'Tokyo', 'Qatar': 'Doha', 'France': 'Paris'}\n"
     ]
    }
   ],
   "source": [
    "# 1st Method : using direct assignment\n",
    "\n",
    "Country = {\n",
    "    'India' : 'Delhi',\n",
    "    'China' : 'Beijing',\n",
    "    'Japan' : 'Tokyo',\n",
    "    'Qatar' : 'Doha',\n",
    "    'France' : 'Marseilles'\n",
    "}\n",
    "\n",
    "#  commands to replace “Marseilles” with “Paris” is\n",
    "Country['France'] = 'Paris'\n",
    "\n",
    "print(Country)"
   ]
  },
  {
   "cell_type": "code",
   "execution_count": 37,
   "id": "6abc4eb8",
   "metadata": {},
   "outputs": [
    {
     "name": "stdout",
     "output_type": "stream",
     "text": [
      "{'India': 'Delhi', 'China': 'Beijing', 'Japan': 'Tokyo', 'Qatar': 'Doha', 'France': 'Paris'}\n"
     ]
    }
   ],
   "source": [
    "# 2nd method : using update method\n",
    "\n",
    "Country = {\n",
    "    'India' : 'Delhi',\n",
    "    'China' : 'Beijing',\n",
    "    'Japan' : 'Tokyo',\n",
    "    'Qatar' : 'Doha',\n",
    "    'France' : 'Marseilles'\n",
    "}\n",
    "\n",
    "#  commands to replace “Marseilles” with “Paris” is\n",
    "Country.update({'France' : 'Paris'})\n",
    "\n",
    "print(Country)\n"
   ]
  },
  {
   "cell_type": "markdown",
   "id": "1c0dff0d",
   "metadata": {},
   "source": [
    "Answer: 2 commands to replace “Marseilles” with “Paris” is:\\\n",
    "        1. Country['France'] = 'Paris'\\\n",
    "        2. Country.update({'France' : 'Paris'})"
   ]
  },
  {
   "cell_type": "markdown",
   "id": "fa2ea864",
   "metadata": {},
   "source": [
    "- Q17. Create the tuples given below\n",
    "\n",
    "tuple_1 = (1,5,6,7,8)\\\n",
    "tuple_2 = (8,9,4)\n",
    "\n",
    "Identify which of the following code does not work on a tuple.\n",
    "\n",
    "a. sum(tuple_1)\n",
    "\n",
    "b. len(tuple_2)\n",
    "\n",
    "c. tuple_2 + tuple_1\n",
    "\n",
    "d. tuple_1[3] = 45"
   ]
  },
  {
   "cell_type": "code",
   "execution_count": 38,
   "id": "7914259b",
   "metadata": {},
   "outputs": [],
   "source": [
    "tuple_1 = (1,5,6,7,8)\n",
    "tuple_2 = (8,9,4)"
   ]
  },
  {
   "cell_type": "code",
   "execution_count": 44,
   "id": "b12a32b9",
   "metadata": {},
   "outputs": [
    {
     "ename": "TypeError",
     "evalue": "'tuple' object does not support item assignment",
     "output_type": "error",
     "traceback": [
      "\u001b[1;31m---------------------------------------------------------------------------\u001b[0m",
      "\u001b[1;31mTypeError\u001b[0m                                 Traceback (most recent call last)",
      "Cell \u001b[1;32mIn [44], line 1\u001b[0m\n\u001b[1;32m----> 1\u001b[0m \u001b[43mtuple_1\u001b[49m\u001b[43m[\u001b[49m\u001b[38;5;241;43m3\u001b[39;49m\u001b[43m]\u001b[49m \u001b[38;5;241m=\u001b[39m \u001b[38;5;241m45\u001b[39m\n",
      "\u001b[1;31mTypeError\u001b[0m: 'tuple' object does not support item assignment"
     ]
    }
   ],
   "source": [
    "tuple_1[3] = 45"
   ]
  },
  {
   "cell_type": "markdown",
   "id": "c04dfa42",
   "metadata": {},
   "source": [
    "Answer : d. tuple_1[3] = 45 (Slicing does not works in tuple)"
   ]
  },
  {
   "cell_type": "markdown",
   "id": "3c737289",
   "metadata": {},
   "source": [
    "- Q18. How many elements in the following data structure?\n",
    "\n",
    "s = {1,2,3,4,4,4,5,6}"
   ]
  },
  {
   "cell_type": "code",
   "execution_count": 46,
   "id": "190acc9a",
   "metadata": {},
   "outputs": [
    {
     "name": "stdout",
     "output_type": "stream",
     "text": [
      " Answer : The number of elements in the set is: 6\n"
     ]
    }
   ],
   "source": [
    "s = {1, 2, 3, 4, 4, 4, 5, 6}\n",
    "\n",
    "# Get the number of elements in the set\n",
    "num_elements = len(s)\n",
    "\n",
    "print(f\" Answer : The number of elements in the set is: {num_elements}\")"
   ]
  },
  {
   "cell_type": "markdown",
   "id": "653e1d76",
   "metadata": {},
   "source": [
    "- Q19.Write a function which finds all pythagorean triplets of triangles whose sides are no\n",
    "greater than a natural number N"
   ]
  },
  {
   "cell_type": "code",
   "execution_count": 51,
   "id": "1ce16058",
   "metadata": {},
   "outputs": [
    {
     "name": "stdout",
     "output_type": "stream",
     "text": [
      "[(3, 4, 5), (6, 8, 10)]\n"
     ]
    }
   ],
   "source": [
    "def pythagorean_triplets(N):\n",
    "    triplets = []\n",
    "    for a in range(1, N+1):\n",
    "        for b in range(a, N+1):\n",
    "            c_square = a**2 + b**2\n",
    "            c = int(c_square ** 0.5)\n",
    "            if c <= N and c_square == c**2:\n",
    "                triplets.append((a,b,c))\n",
    "    return triplets\n",
    "\n",
    "# Example usage :\n",
    "N = 10\n",
    "triplets = pythagorean_triplets(N)\n",
    "print (triplets)"
   ]
  }
 ],
 "metadata": {
  "kernelspec": {
   "display_name": "Python 3 (ipykernel)",
   "language": "python",
   "name": "python3"
  },
  "language_info": {
   "codemirror_mode": {
    "name": "ipython",
    "version": 3
   },
   "file_extension": ".py",
   "mimetype": "text/x-python",
   "name": "python",
   "nbconvert_exporter": "python",
   "pygments_lexer": "ipython3",
   "version": "3.10.8"
  }
 },
 "nbformat": 4,
 "nbformat_minor": 5
}
